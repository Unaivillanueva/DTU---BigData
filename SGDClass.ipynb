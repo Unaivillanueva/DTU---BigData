{
 "cells": [
  {
   "cell_type": "code",
   "execution_count": 1,
   "metadata": {
    "collapsed": true
   },
   "outputs": [],
   "source": [
    "%matplotlib inline\n",
    "#LOAD LIBRARIES\n",
    "import csv\n",
    "import pandas as pd\n",
    "import matplotlib.pyplot as plt\n",
    "from sqlalchemy import create_engine # database connection\n",
    "import datetime as dt\n",
    "from IPython.display import display\n",
    "from sklearn import linear_model as sk\n",
    "from sklearn.linear_model import SGDRegressor\n",
    "from sklearn.utils import shuffle\n",
    "import numpy as np"
   ]
  },
  {
   "cell_type": "code",
   "execution_count": 2,
   "metadata": {
    "collapsed": false
   },
   "outputs": [
    {
     "name": "stdout",
     "output_type": "stream",
     "text": [
      "Wall time: 1 ms\n"
     ]
    }
   ],
   "source": [
    "%%time\n",
    "#CONNECT TO THE DATABASE\n",
    "import sqlite3\n",
    "disk_engine=sqlite3.connect('tuti.db')"
   ]
  },
  {
   "cell_type": "code",
   "execution_count": 3,
   "metadata": {
    "collapsed": false
   },
   "outputs": [
    {
     "data": {
      "text/html": [
       "<div>\n",
       "<table border=\"1\" class=\"dataframe\">\n",
       "  <thead>\n",
       "    <tr style=\"text-align: right;\">\n",
       "      <th></th>\n",
       "      <th>index</th>\n",
       "      <th>Year</th>\n",
       "      <th>Month</th>\n",
       "      <th>CRSDepTime</th>\n",
       "      <th>UniqueCarrier</th>\n",
       "      <th>Origin</th>\n",
       "      <th>Dest</th>\n",
       "      <th>Cancelled</th>\n",
       "    </tr>\n",
       "  </thead>\n",
       "  <tbody>\n",
       "    <tr>\n",
       "      <th>0</th>\n",
       "      <td>1</td>\n",
       "      <td>1987</td>\n",
       "      <td>10</td>\n",
       "      <td>730</td>\n",
       "      <td>PS</td>\n",
       "      <td>SAN</td>\n",
       "      <td>SFO</td>\n",
       "      <td>0</td>\n",
       "    </tr>\n",
       "    <tr>\n",
       "      <th>1</th>\n",
       "      <td>2</td>\n",
       "      <td>1987</td>\n",
       "      <td>10</td>\n",
       "      <td>730</td>\n",
       "      <td>PS</td>\n",
       "      <td>SAN</td>\n",
       "      <td>SFO</td>\n",
       "      <td>0</td>\n",
       "    </tr>\n",
       "    <tr>\n",
       "      <th>2</th>\n",
       "      <td>3</td>\n",
       "      <td>1987</td>\n",
       "      <td>10</td>\n",
       "      <td>730</td>\n",
       "      <td>PS</td>\n",
       "      <td>SAN</td>\n",
       "      <td>SFO</td>\n",
       "      <td>0</td>\n",
       "    </tr>\n",
       "  </tbody>\n",
       "</table>\n",
       "</div>"
      ],
      "text/plain": [
       "   index  Year  Month  CRSDepTime UniqueCarrier Origin Dest  Cancelled\n",
       "0      1  1987     10         730            PS    SAN  SFO          0\n",
       "1      2  1987     10         730            PS    SAN  SFO          0\n",
       "2      3  1987     10         730            PS    SAN  SFO          0"
      ]
     },
     "execution_count": 3,
     "metadata": {},
     "output_type": "execute_result"
    }
   ],
   "source": [
    "#CONNECTION TEST\n",
    "df = pd.read_sql_query('SELECT * FROM data LIMIT 3', disk_engine)\n",
    "df"
   ]
  },
  {
   "cell_type": "code",
   "execution_count": 9,
   "metadata": {
    "collapsed": false
   },
   "outputs": [
    {
     "name": "stdout",
     "output_type": "stream",
     "text": [
      "Wall time: 166 ms\n"
     ]
    }
   ],
   "source": [
    "%%time\n",
    "model = sk.SGDClassifier()\n",
    "classes= np.array([0,1])\n",
    "for i in range(0,100,10):\n",
    "    X_train = pd.read_sql_query('SELECT Year, Month, CRSDepTime '\n",
    "                            'FROM data '\n",
    "                           'LIMIT 10 OFFSET %i; ' %i, disk_engine)\n",
    "    \n",
    "    y_train = pd.read_sql_query('SELECT Cancelled '\n",
    "                           'FROM data '\n",
    "                           'LIMIT 10 OFFSET %i; ' %i, disk_engine)\n",
    "    \n",
    "    #X_train, y_train = shuffle(chunk_x, chunk_y)\n",
    "    model.partial_fit(X_train, y_train.values.ravel(),classes=classes )\n"
   ]
  },
  {
   "cell_type": "code",
   "execution_count": 10,
   "metadata": {
    "collapsed": false
   },
   "outputs": [
    {
     "name": "stdout",
     "output_type": "stream",
     "text": [
      "[0]\n"
     ]
    }
   ],
   "source": [
    "print model.predict([[1987, 10, 1505]])"
   ]
  },
  {
   "cell_type": "markdown",
   "metadata": {},
   "source": [
    "# NEW TEST"
   ]
  },
  {
   "cell_type": "code",
   "execution_count": 4,
   "metadata": {
    "collapsed": false
   },
   "outputs": [],
   "source": [
    "from sklearn.linear_model import SGDClassifier\n",
    "from sklearn.utils.class_weight import compute_class_weight\n",
    "\n",
    "from sklearn.utils.testing import assert_almost_equal\n",
    "from sklearn.utils.testing import assert_true\n",
    "from sklearn.utils.testing import assert_equal"
   ]
  },
  {
   "cell_type": "code",
   "execution_count": 46,
   "metadata": {
    "collapsed": true
   },
   "outputs": [],
   "source": [
    "def test_compute_class_weight():\n",
    "    \"\"\"Test (and demo) compute_class_weight.\"\"\"\n",
    "    classes, y = unique(np.asarray([0,1]), return_inverse=True)\n",
    "    cw = compute_class_weight(\"auto\", classes, y)\n",
    "    assert_almost_equal(cw.sum(), classes.shape)\n",
    "    assert_true(cw[0] < cw[1] < cw[2])"
   ]
  },
  {
   "cell_type": "code",
   "execution_count": 82,
   "metadata": {
    "collapsed": false
   },
   "outputs": [
    {
     "name": "stdout",
     "output_type": "stream",
     "text": [
      "Wall time: 8min 1s\n"
     ]
    }
   ],
   "source": [
    "%%time\n",
    "\n",
    "#create a list with the features we wan to use\n",
    "feature_cols = ['Year','Month','CRSDepTime']\n",
    "\n",
    "#define the classifier\n",
    "classes = np.array([0,1])\n",
    "weights = {0: 1, 1: 20}\n",
    "SGDClass = SGDClassifier(class_weight=weights, \n",
    "                         #loss='log',\n",
    "                         alpha=1.0\n",
    "                         #l1_ratio=1,\n",
    "                         #learning_rate='optimal',\n",
    "                         #shuffle=True,\n",
    "                         #eta0=0.01\n",
    "                         )\n",
    "\n",
    "#compute_class_weight('auto', classes, y)\n",
    "for i in range(0,5000000,10000):\n",
    "    train = pd.read_sql_query('SELECT * '\n",
    "                              'FROM data '\n",
    "                              'LIMIT 10000 OFFSET %i;  '%i, disk_engine)\n",
    "    \n",
    "    X = train.loc[:,feature_cols]\n",
    "    y = train.Cancelled\n",
    "    \n",
    "    SGDClass.partial_fit(X,y,classes=classes)  "
   ]
  },
  {
   "cell_type": "code",
   "execution_count": null,
   "metadata": {
    "collapsed": false
   },
   "outputs": [],
   "source": [
    "%%time \n",
    "\n",
    "#load a test dataframe\n",
    "test = pd.read_sql_query('SELECT * '\n",
    "                        'FROM data '\n",
    "                        'LIMIT 50000000 OFFSET 1000000 ', disk_engine)\n",
    "X_new = test.loc[:,feature_cols]"
   ]
  },
  {
   "cell_type": "code",
   "execution_count": 85,
   "metadata": {
    "collapsed": false
   },
   "outputs": [
    {
     "name": "stdout",
     "output_type": "stream",
     "text": [
      "[0 0 0 ..., 0 0 0]\n",
      "33630\n",
      "1.02334 % is the REAL percentage of cancellations\n",
      "0.6726 % is the PREDICTED percentage of cancellations\n"
     ]
    }
   ],
   "source": [
    "#predict\n",
    "new_pred_class = SGDClass.predict(X_new)\n",
    "print new_pred_class\n",
    "\n",
    "yes_count=0\n",
    "for pred in new_pred_class:\n",
    "    if pred==1:\n",
    "        yes_count+=1\n",
    "        \n",
    "#see results\n",
    "#print len(new_pred_class)\n",
    "print yes_count\n",
    "print 100*(len(test[test['Cancelled']==1]))/(float(len(test))),'% is the REAL percentage of cancellations'\n",
    "print (yes_count*100)/(float(len(new_pred_class))),'% is the PREDICTED percentage of cancellations'"
   ]
  },
  {
   "cell_type": "code",
   "execution_count": 63,
   "metadata": {
    "collapsed": false
   },
   "outputs": [
    {
     "name": "stdout",
     "output_type": "stream",
     "text": [
      "[0]\n"
     ]
    }
   ],
   "source": [
    "#example flight\n",
    "print SGDClass.predict([[1987, 10, 1505]])"
   ]
  },
  {
   "cell_type": "code",
   "execution_count": null,
   "metadata": {
    "collapsed": false
   },
   "outputs": [],
   "source": []
  },
  {
   "cell_type": "code",
   "execution_count": 42,
   "metadata": {
    "collapsed": true
   },
   "outputs": [],
   "source": []
  },
  {
   "cell_type": "code",
   "execution_count": null,
   "metadata": {
    "collapsed": false
   },
   "outputs": [],
   "source": []
  },
  {
   "cell_type": "code",
   "execution_count": null,
   "metadata": {
    "collapsed": false
   },
   "outputs": [],
   "source": []
  },
  {
   "cell_type": "code",
   "execution_count": null,
   "metadata": {
    "collapsed": true
   },
   "outputs": [],
   "source": []
  }
 ],
 "metadata": {
  "kernelspec": {
   "display_name": "Python [Root]",
   "language": "python",
   "name": "Python [Root]"
  },
  "language_info": {
   "codemirror_mode": {
    "name": "ipython",
    "version": 2
   },
   "file_extension": ".py",
   "mimetype": "text/x-python",
   "name": "python",
   "nbconvert_exporter": "python",
   "pygments_lexer": "ipython2",
   "version": "2.7.12"
  }
 },
 "nbformat": 4,
 "nbformat_minor": 0
}
